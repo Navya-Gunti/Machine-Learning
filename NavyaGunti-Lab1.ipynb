{
 "cells": [
  {
   "cell_type": "markdown",
   "metadata": {},
   "source": [
    "# Machine Learning Lab Assignment - 1"
   ]
  },
  {
   "cell_type": "markdown",
   "metadata": {},
   "source": [
    "### 1) Given a string, convert it to a list and a tuple"
   ]
  },
  {
   "cell_type": "code",
   "execution_count": 23,
   "metadata": {},
   "outputs": [
    {
     "name": "stdout",
     "output_type": "stream",
     "text": [
      "Enter the string NAVYA GUNTI\n",
      "['N', 'A', 'V', 'Y', 'A', ' ', 'G', 'U', 'N', 'T', 'I']\n",
      "('N', 'A', 'V', 'Y', 'A', ' ', 'G', 'U', 'N', 'T', 'I')\n"
     ]
    }
   ],
   "source": [
    "text = str(input(\"Enter the string \"))\n",
    "word_list = []\n",
    "\n",
    "for x in range(0, len(text)):\n",
    "    word_list.append(text[x])\n",
    "    x+=1\n",
    "\n",
    "print(word_list)\n",
    "\n",
    "def convert(inputList):\n",
    "    return tuple(inputList)\n",
    "  \n",
    "# Driver function\n",
    "\n",
    "print(convert(word_list))"
   ]
  },
  {
   "cell_type": "markdown",
   "metadata": {},
   "source": [
    "### 2) Give 'n' numbers as input and find their average"
   ]
  },
  {
   "cell_type": "code",
   "execution_count": 2,
   "metadata": {},
   "outputs": [
    {
     "name": "stdout",
     "output_type": "stream",
     "text": [
      "How many numbers: 10\n",
      "Enter number : 21\n",
      "Enter number : 32\n",
      "Enter number : 54\n",
      "Enter number : 99\n",
      "Enter number : 122\n",
      "Enter number : 32\n",
      "Enter number : 1\n",
      "Enter number : 939\n",
      "Enter number : 32\n",
      "Enter number : 4\n",
      "Average of  10  numbers is : 133.6\n"
     ]
    }
   ],
   "source": [
    "num = int(input('How many numbers: '))\n",
    "total_sum = 0\n",
    "for n in range(num):\n",
    "    numbers = float(input('Enter number : '))\n",
    "    total_sum += numbers\n",
    "avg = total_sum/num\n",
    "print('Average of ', num, ' numbers is :', avg)\n"
   ]
  },
  {
   "cell_type": "markdown",
   "metadata": {},
   "source": [
    "### 3) Find your age when you input your date of birth"
   ]
  },
  {
   "cell_type": "code",
   "execution_count": 3,
   "metadata": {},
   "outputs": [
    {
     "name": "stdout",
     "output_type": "stream",
     "text": [
      "Enter your born year 1995\n",
      "Enter your born month 07\n",
      "Enter your born day 16\n",
      "You are 26 years old\n"
     ]
    }
   ],
   "source": [
    " from datetime import date\n",
    " \n",
    "def calculateAge(birthDate):\n",
    "    today = date.today()\n",
    "    age = today.year - birthDate.year-((today.month, today.day) <(birthDate.month, birthDate.day))\n",
    "    return age    \n",
    "year = int(input('Enter your born year '))\n",
    "month = int(input('Enter your born month '))\n",
    "day = int(input('Enter your born day '))\n",
    "print(\"You are\",calculateAge(date(year, month, day)), \"years old\")\n"
   ]
  },
  {
   "cell_type": "markdown",
   "metadata": {},
   "source": [
    "### 4) Write a python program to find the maximum number and minimum number in an array of 'n' numbers using a function"
   ]
  },
  {
   "cell_type": "code",
   "execution_count": 4,
   "metadata": {},
   "outputs": [
    {
     "name": "stdout",
     "output_type": "stream",
     "text": [
      "Enter the total number of elements : 5\n",
      "21\n",
      "32\n",
      "555\n",
      "-2\n",
      "-11\n",
      "The list of array elements is [21, 32, 555, -2, -11]\n",
      "The maximum and minimum values are (555, -11)\n"
     ]
    }
   ],
   "source": [
    "listval = []\n",
    "values = int(input(\"Enter the total number of elements : \"))\n",
    "for a in range(0, values):\n",
    "    ele = int(input())\n",
    "    listval.append(ele) \n",
    "print(\"The list of array elements is\",listval)\n",
    "def max_min(data):\n",
    "  x = data[0]\n",
    "  y = data[0]\n",
    "  for number in data:\n",
    "    if number> x:\n",
    "      x = number\n",
    "    elif number< y:\n",
    "        y = number\n",
    "  return x, y\n",
    "\n",
    "print(\"The maximum and minimum values are\",max_min(listval))\n",
    "\n"
   ]
  },
  {
   "cell_type": "markdown",
   "metadata": {},
   "source": [
    "### 5) Write a Python program to interchange two numbers from an array of 10 numbers using a function"
   ]
  },
  {
   "cell_type": "code",
   "execution_count": 22,
   "metadata": {},
   "outputs": [
    {
     "name": "stdout",
     "output_type": "stream",
     "text": [
      "Enter 10 numbers\n",
      "11\n",
      "12\n",
      "13\n",
      "14\n",
      "15\n",
      "16\n",
      "3\n",
      "9\n",
      "8\n",
      "0\n",
      "The list before swap:  [11, 12, 13, 14, 15, 16, 3, 9, 8, 0]\n",
      "The list after swap :  [13, 12, 11, 14, 15, 16, 3, 9, 8, 0]\n"
     ]
    }
   ],
   "source": [
    "listval = []\n",
    "values = int(10)\n",
    "print(\"Enter 10 numbers\")\n",
    "for a in range(0, values):\n",
    "    ele = int(input())\n",
    "    listval.append(ele) \n",
    "print(\"The list before swap: \",listval)\n",
    "\n",
    "listval[0], listval[2] = listval[2], listval[0]\n",
    "\n",
    "print(\"The list after swap : \",listval)"
   ]
  },
  {
   "cell_type": "code",
   "execution_count": null,
   "metadata": {},
   "outputs": [],
   "source": []
  }
 ],
 "metadata": {
  "kernelspec": {
   "display_name": "Python 3",
   "language": "python",
   "name": "python3"
  },
  "language_info": {
   "codemirror_mode": {
    "name": "ipython",
    "version": 3
   },
   "file_extension": ".py",
   "mimetype": "text/x-python",
   "name": "python",
   "nbconvert_exporter": "python",
   "pygments_lexer": "ipython3",
   "version": "3.8.8"
  }
 },
 "nbformat": 4,
 "nbformat_minor": 4
}
